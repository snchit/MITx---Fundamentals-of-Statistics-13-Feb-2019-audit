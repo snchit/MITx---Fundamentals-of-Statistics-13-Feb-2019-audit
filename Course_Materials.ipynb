{
  "nbformat": 4,
  "nbformat_minor": 0,
  "metadata": {
    "colab": {
      "name": "Download Course Materials.ipynb",
      "version": "0.3.2",
      "provenance": [],
      "include_colab_link": true
    },
    "kernelspec": {
      "name": "python3",
      "display_name": "Python 3"
    },
    "accelerator": "GPU"
  },
  "cells": [
    {
      "cell_type": "markdown",
      "metadata": {
        "id": "view-in-github",
        "colab_type": "text"
      },
      "source": [
        "<a href=\"https://colab.research.google.com/github/Data-Science-and-Data-Analytics-Courses/MITx---Fundamentals-of-Statistics-13-Feb-2019-audit/blob/master/Course_Materials.ipynb\" target=\"_parent\"><img src=\"https://colab.research.google.com/assets/colab-badge.svg\" alt=\"Open In Colab\"/></a>"
      ]
    },
    {
      "metadata": {
        "colab_type": "text",
        "id": "UdDQ4H0VmPpJ"
      },
      "cell_type": "markdown",
      "source": [
        "# Clone remote"
      ]
    },
    {
      "metadata": {
        "colab_type": "code",
        "id": "cXqTKogHXEr9",
        "outputId": "a28b1c25-3d42-43cf-ad5a-80201ea63c69",
        "colab": {
          "base_uri": "https://localhost:8080/",
          "height": 224
        }
      },
      "cell_type": "code",
      "source": [
        "import os, sys\n",
        "from google.colab import drive\n",
        "from urllib.parse import urlsplit\n",
        "from pathlib import Path\n",
        "\n",
        "URL = \"https://github.com/Data-Science-and-Data-Analytics-Courses/MITx---Fundamentals-of-Statistics-13-Feb-2019-audit\"\n",
        "DRIVE = Path(\"/drive\", \"My Drive\")\n",
        "\n",
        "def clone(url, dest=\".\", name=\"\", options=\"--single-branch -b master\", reloc=True):\n",
        "  \"\"\"\n",
        "  Clone url into dest\n",
        "  name: if provided, rename repository\n",
        "  options: supported by git-clone (https://git-scm.com/docs/git-clone)\n",
        "  reloc: if True, relocate to repository\n",
        "  \"\"\"\n",
        "\n",
        "  rurl = urlsplit(url)\n",
        "  dest = Path(dest).resolve()\n",
        "  repo = dest / (name or Path(rurl.path).name)\n",
        "\n",
        "  # Nested repositories not allowed\n",
        "  out = !git -C \"{dest}\" rev-parse\n",
        "  if not out: # inside repository\n",
        "    raise ValueError(\"Can't clone into existing repository\")\n",
        "  \n",
        "  # Clone\n",
        "  !git clone {options} \"{rurl.geturl()}\" \"{repo}\"\n",
        "  \n",
        "  # Relocate\n",
        "  if reloc:\n",
        "    os.chdir(repo)\n",
        "\n",
        "  return repo\n",
        "  \n",
        "REPO = clone(URL)\n",
        "sys.path.append(REPO)\n",
        "drive.mount(DRIVE.parent)"
      ],
      "execution_count": 1,
      "outputs": [
        {
          "output_type": "stream",
          "text": [
            "Cloning into '/content/MITx---Fundamentals-of-Statistics-13-Feb-2019-audit'...\n",
            "remote: Enumerating objects: 24, done.\u001b[K\n",
            "remote: Counting objects:   4% (1/24)   \u001b[K\rremote: Counting objects:   8% (2/24)   \u001b[K\rremote: Counting objects:  12% (3/24)   \u001b[K\rremote: Counting objects:  16% (4/24)   \u001b[K\rremote: Counting objects:  20% (5/24)   \u001b[K\rremote: Counting objects:  25% (6/24)   \u001b[K\rremote: Counting objects:  29% (7/24)   \u001b[K\rremote: Counting objects:  33% (8/24)   \u001b[K\rremote: Counting objects:  37% (9/24)   \u001b[K\rremote: Counting objects:  41% (10/24)   \u001b[K\rremote: Counting objects:  45% (11/24)   \u001b[K\rremote: Counting objects:  50% (12/24)   \u001b[K\rremote: Counting objects:  54% (13/24)   \u001b[K\rremote: Counting objects:  58% (14/24)   \u001b[K\rremote: Counting objects:  62% (15/24)   \u001b[K\rremote: Counting objects:  66% (16/24)   \u001b[K\rremote: Counting objects:  70% (17/24)   \u001b[K\rremote: Counting objects:  75% (18/24)   \u001b[K\rremote: Counting objects:  79% (19/24)   \u001b[K\rremote: Counting objects:  83% (20/24)   \u001b[K\rremote: Counting objects:  87% (21/24)   \u001b[K\rremote: Counting objects:  91% (22/24)   \u001b[K\rremote: Counting objects:  95% (23/24)   \u001b[K\rremote: Counting objects: 100% (24/24)   \u001b[K\rremote: Counting objects: 100% (24/24), done.\u001b[K\n",
            "remote: Compressing objects:   4% (1/23)   \u001b[K\rremote: Compressing objects:   8% (2/23)   \u001b[K\rremote: Compressing objects:  13% (3/23)   \u001b[K\rremote: Compressing objects:  17% (4/23)   \u001b[K\rremote: Compressing objects:  21% (5/23)   \u001b[K\rremote: Compressing objects:  26% (6/23)   \u001b[K\rremote: Compressing objects:  30% (7/23)   \u001b[K\rremote: Compressing objects:  34% (8/23)   \u001b[K\rremote: Compressing objects:  39% (9/23)   \u001b[K\rremote: Compressing objects:  43% (10/23)   \u001b[K\rremote: Compressing objects:  47% (11/23)   \u001b[K\rremote: Compressing objects:  52% (12/23)   \u001b[K\rremote: Compressing objects:  56% (13/23)   \u001b[K\rremote: Compressing objects:  60% (14/23)   \u001b[K\rremote: Compressing objects:  65% (15/23)   \u001b[K\rremote: Compressing objects:  69% (16/23)   \u001b[K\rremote: Compressing objects:  73% (17/23)   \u001b[K\rremote: Compressing objects:  78% (18/23)   \u001b[K\rremote: Compressing objects:  82% (19/23)   \u001b[K\rremote: Compressing objects:  86% (20/23)   \u001b[K\rremote: Compressing objects:  91% (21/23)   \u001b[K\rremote: Compressing objects:  95% (22/23)   \u001b[K\rremote: Compressing objects: 100% (23/23)   \u001b[K\rremote: Compressing objects: 100% (23/23), done.\u001b[K\n",
            "remote: Total 24 (delta 9), reused 6 (delta 1), pack-reused 0\u001b[K\n",
            "Unpacking objects:   4% (1/24)   \rUnpacking objects:   8% (2/24)   \rUnpacking objects:  12% (3/24)   \rUnpacking objects:  16% (4/24)   \rUnpacking objects:  20% (5/24)   \rUnpacking objects:  25% (6/24)   \rUnpacking objects:  29% (7/24)   \rUnpacking objects:  33% (8/24)   \rUnpacking objects:  37% (9/24)   \rUnpacking objects:  41% (10/24)   \rUnpacking objects:  45% (11/24)   \rUnpacking objects:  50% (12/24)   \rUnpacking objects:  54% (13/24)   \rUnpacking objects:  58% (14/24)   \rUnpacking objects:  62% (15/24)   \rUnpacking objects:  66% (16/24)   \rUnpacking objects:  70% (17/24)   \rUnpacking objects:  75% (18/24)   \rUnpacking objects:  79% (19/24)   \rUnpacking objects:  83% (20/24)   \rUnpacking objects:  87% (21/24)   \rUnpacking objects:  91% (22/24)   \rUnpacking objects:  95% (23/24)   \rUnpacking objects: 100% (24/24)   \rUnpacking objects: 100% (24/24), done.\n",
            "Go to this URL in a browser: https://accounts.google.com/o/oauth2/auth?client_id=947318989803-6bn6qk8qdgf4n4g3pfee6491hc0brc4i.apps.googleusercontent.com&redirect_uri=urn%3Aietf%3Awg%3Aoauth%3A2.0%3Aoob&scope=email%20https%3A%2F%2Fwww.googleapis.com%2Fauth%2Fdocs.test%20https%3A%2F%2Fwww.googleapis.com%2Fauth%2Fdrive%20https%3A%2F%2Fwww.googleapis.com%2Fauth%2Fdrive.photos.readonly%20https%3A%2F%2Fwww.googleapis.com%2Fauth%2Fpeopleapi.readonly&response_type=code\n",
            "\n",
            "Enter your authorization code:\n",
            "··········\n",
            "Mounted at /drive\n"
          ],
          "name": "stdout"
        }
      ]
    },
    {
      "metadata": {
        "id": "fRrOetKsg-RC",
        "colab_type": "text"
      },
      "cell_type": "markdown",
      "source": [
        "# Import libraries"
      ]
    },
    {
      "metadata": {
        "id": "XfwrINzwdmkn",
        "colab_type": "code",
        "outputId": "845f54cf-c1a4-4655-9e2c-3f48a020ce0f",
        "colab": {
          "base_uri": "https://localhost:8080/",
          "height": 51
        }
      },
      "cell_type": "code",
      "source": [
        "%run \"{REPO/'.Importable.ipynb'}\"\n",
        "from Packages import Git, Files"
      ],
      "execution_count": 2,
      "outputs": [
        {
          "output_type": "display_data",
          "data": {
            "text/html": [
              "\n",
              "<style type='text/css'>\n",
              ".hll { background-color: #ffffcc }\n",
              ".c { color: #408080; font-style: italic } /* Comment */\n",
              ".err { border: 1px solid #FF0000 } /* Error */\n",
              ".k { color: #008000; font-weight: bold } /* Keyword */\n",
              ".o { color: #666666 } /* Operator */\n",
              ".ch { color: #408080; font-style: italic } /* Comment.Hashbang */\n",
              ".cm { color: #408080; font-style: italic } /* Comment.Multiline */\n",
              ".cp { color: #BC7A00 } /* Comment.Preproc */\n",
              ".cpf { color: #408080; font-style: italic } /* Comment.PreprocFile */\n",
              ".c1 { color: #408080; font-style: italic } /* Comment.Single */\n",
              ".cs { color: #408080; font-style: italic } /* Comment.Special */\n",
              ".gd { color: #A00000 } /* Generic.Deleted */\n",
              ".ge { font-style: italic } /* Generic.Emph */\n",
              ".gr { color: #FF0000 } /* Generic.Error */\n",
              ".gh { color: #000080; font-weight: bold } /* Generic.Heading */\n",
              ".gi { color: #00A000 } /* Generic.Inserted */\n",
              ".go { color: #888888 } /* Generic.Output */\n",
              ".gp { color: #000080; font-weight: bold } /* Generic.Prompt */\n",
              ".gs { font-weight: bold } /* Generic.Strong */\n",
              ".gu { color: #800080; font-weight: bold } /* Generic.Subheading */\n",
              ".gt { color: #0044DD } /* Generic.Traceback */\n",
              ".kc { color: #008000; font-weight: bold } /* Keyword.Constant */\n",
              ".kd { color: #008000; font-weight: bold } /* Keyword.Declaration */\n",
              ".kn { color: #008000; font-weight: bold } /* Keyword.Namespace */\n",
              ".kp { color: #008000 } /* Keyword.Pseudo */\n",
              ".kr { color: #008000; font-weight: bold } /* Keyword.Reserved */\n",
              ".kt { color: #B00040 } /* Keyword.Type */\n",
              ".m { color: #666666 } /* Literal.Number */\n",
              ".s { color: #BA2121 } /* Literal.String */\n",
              ".na { color: #7D9029 } /* Name.Attribute */\n",
              ".nb { color: #008000 } /* Name.Builtin */\n",
              ".nc { color: #0000FF; font-weight: bold } /* Name.Class */\n",
              ".no { color: #880000 } /* Name.Constant */\n",
              ".nd { color: #AA22FF } /* Name.Decorator */\n",
              ".ni { color: #999999; font-weight: bold } /* Name.Entity */\n",
              ".ne { color: #D2413A; font-weight: bold } /* Name.Exception */\n",
              ".nf { color: #0000FF } /* Name.Function */\n",
              ".nl { color: #A0A000 } /* Name.Label */\n",
              ".nn { color: #0000FF; font-weight: bold } /* Name.Namespace */\n",
              ".nt { color: #008000; font-weight: bold } /* Name.Tag */\n",
              ".nv { color: #19177C } /* Name.Variable */\n",
              ".ow { color: #AA22FF; font-weight: bold } /* Operator.Word */\n",
              ".w { color: #bbbbbb } /* Text.Whitespace */\n",
              ".mb { color: #666666 } /* Literal.Number.Bin */\n",
              ".mf { color: #666666 } /* Literal.Number.Float */\n",
              ".mh { color: #666666 } /* Literal.Number.Hex */\n",
              ".mi { color: #666666 } /* Literal.Number.Integer */\n",
              ".mo { color: #666666 } /* Literal.Number.Oct */\n",
              ".sb { color: #BA2121 } /* Literal.String.Backtick */\n",
              ".sc { color: #BA2121 } /* Literal.String.Char */\n",
              ".sd { color: #BA2121; font-style: italic } /* Literal.String.Doc */\n",
              ".s2 { color: #BA2121 } /* Literal.String.Double */\n",
              ".se { color: #BB6622; font-weight: bold } /* Literal.String.Escape */\n",
              ".sh { color: #BA2121 } /* Literal.String.Heredoc */\n",
              ".si { color: #BB6688; font-weight: bold } /* Literal.String.Interpol */\n",
              ".sx { color: #008000 } /* Literal.String.Other */\n",
              ".sr { color: #BB6688 } /* Literal.String.Regex */\n",
              ".s1 { color: #BA2121 } /* Literal.String.Single */\n",
              ".ss { color: #19177C } /* Literal.String.Symbol */\n",
              ".bp { color: #008000 } /* Name.Builtin.Pseudo */\n",
              ".vc { color: #19177C } /* Name.Variable.Class */\n",
              ".vg { color: #19177C } /* Name.Variable.Global */\n",
              ".vi { color: #19177C } /* Name.Variable.Instance */\n",
              ".il { color: #666666 } /* Literal.Number.Integer.Long */\n",
              "</style>\n"
            ],
            "text/plain": [
              "<IPython.core.display.HTML object>"
            ]
          },
          "metadata": {
            "tags": []
          }
        },
        {
          "output_type": "stream",
          "text": [
            "importing Jupyter notebook from /content/MITx---Fundamentals-of-Statistics-13-Feb-2019-audit/Packages/Git.ipynb\n",
            "importing Jupyter notebook from /content/MITx---Fundamentals-of-Statistics-13-Feb-2019-audit/Packages/Files.ipynb\n"
          ],
          "name": "stdout"
        }
      ]
    },
    {
      "metadata": {
        "colab_type": "text",
        "id": "5sl8tFrDP67Z"
      },
      "cell_type": "markdown",
      "source": [
        "# Download"
      ]
    },
    {
      "metadata": {
        "id": "ORA_qxjTnZKg",
        "colab_type": "text"
      },
      "cell_type": "markdown",
      "source": [
        "## Map-Reduce and Spark (Weeks 1 & 2)"
      ]
    },
    {
      "metadata": {
        "id": "4gWwsdjJnpok",
        "colab_type": "code",
        "outputId": "54be95ce-6eef-4f93-c9e6-d0a1e5699bb5",
        "colab": {
          "base_uri": "https://localhost:8080/",
          "height": 153
        }
      },
      "cell_type": "code",
      "source": [
        "urls = {\"pa1.tgz\": \"https://prod-edxapp.edx-cdn.org/assets/courseware/v1/3541a6c854381a1c22a7646815826600/asset-v1:UCSanDiegoX+DSE230x+1T2019+type@asset+block/pa1.tgz\"}\n",
        "dest = \"Map-Reduce and Spark (Weeks 1 & 2)\"\n",
        "Files.runtar(urls[\"pa1.tgz\"], dest)"
      ],
      "execution_count": 0,
      "outputs": [
        {
          "output_type": "execute_result",
          "data": {
            "text/plain": [
              "[PosixPath('/content/UCSanDiegoX---Big-Data-Analytics-Using-Spark-03-Jan-2019-audit/Map-Reduce and Spark (Weeks 1 & 2)/pa1'),\n",
              " PosixPath('/content/UCSanDiegoX---Big-Data-Analytics-Using-Spark-03-Jan-2019-audit/Map-Reduce and Spark (Weeks 1 & 2)/pa1/._.DS_Store'),\n",
              " PosixPath('/content/UCSanDiegoX---Big-Data-Analytics-Using-Spark-03-Jan-2019-audit/Map-Reduce and Spark (Weeks 1 & 2)/pa1/.DS_Store'),\n",
              " PosixPath('/content/UCSanDiegoX---Big-Data-Analytics-Using-Spark-03-Jan-2019-audit/Map-Reduce and Spark (Weeks 1 & 2)/pa1/.ipynb_checkpoints'),\n",
              " PosixPath('/content/UCSanDiegoX---Big-Data-Analytics-Using-Spark-03-Jan-2019-audit/Map-Reduce and Spark (Weeks 1 & 2)/pa1/collinearPoints.ipynb'),\n",
              " PosixPath('/content/UCSanDiegoX---Big-Data-Analytics-Using-Spark-03-Jan-2019-audit/Map-Reduce and Spark (Weeks 1 & 2)/pa1/data.txt'),\n",
              " PosixPath('/content/UCSanDiegoX---Big-Data-Analytics-Using-Spark-03-Jan-2019-audit/Map-Reduce and Spark (Weeks 1 & 2)/pa1/data50.txt'),\n",
              " PosixPath('/content/UCSanDiegoX---Big-Data-Analytics-Using-Spark-03-Jan-2019-audit/Map-Reduce and Spark (Weeks 1 & 2)/pa1/non-collinear-points.jpg')]"
            ]
          },
          "metadata": {
            "tags": []
          },
          "execution_count": 3
        }
      ]
    },
    {
      "metadata": {
        "id": "7ILM4JyuLzue",
        "colab_type": "text"
      },
      "cell_type": "markdown",
      "source": [
        "# Push repository"
      ]
    },
    {
      "metadata": {
        "id": "RqifDMhBglwC",
        "colab_type": "code",
        "outputId": "21baa6c4-246b-4561-db1f-1c7b8ecaec44",
        "colab": {
          "base_uri": "https://localhost:8080/",
          "height": 153
        }
      },
      "cell_type": "code",
      "source": [
        "message = \"Initialize repository\"\n",
        "confile = DRIVE.joinpath(\"GitHub/config.json\") # path to configuration file\n",
        "logfile = DRIVE.joinpath(\"GitHub/login.json\") # path to log-in file\n",
        "\n",
        "# Configure\n",
        "Git.config(confile=confile)\n",
        "\n",
        "# Track\n",
        "!git add -A\n",
        "\n",
        "# Commit\n",
        "!git commit -m \"$message\"\n",
        "\n",
        "# Push\n",
        "Git.push(URL, logfile=logfile)"
      ],
      "execution_count": 13,
      "outputs": [
        {
          "output_type": "stream",
          "text": [
            "Counting objects: 7, done.\n",
            "Delta compression using up to 2 threads.\n",
            "Compressing objects:  14% (1/7)   \rCompressing objects:  28% (2/7)   \rCompressing objects:  42% (3/7)   \rCompressing objects:  57% (4/7)   \rCompressing objects:  71% (5/7)   \rCompressing objects:  85% (6/7)   \rCompressing objects: 100% (7/7)   \rCompressing objects: 100% (7/7), done.\n",
            "Writing objects:  14% (1/7)   \rWriting objects:  28% (2/7)   \rWriting objects:  42% (3/7)   \rWriting objects:  57% (4/7)   \rWriting objects:  71% (5/7)   \rWriting objects:  85% (6/7)   \rWriting objects: 100% (7/7)   \rWriting objects: 100% (7/7), 11.75 KiB | 5.88 MiB/s, done.\n",
            "Total 7 (delta 1), reused 0 (delta 0)\n",
            "remote: Resolving deltas: 100% (1/1), done.\u001b[K\n",
            "To https://github.com/Data-Science-and-Data-Analytics-Courses/MITx---Fundamentals-of-Statistics-13-Feb-2019-audit\n",
            "   c4c8b09..92b3d01  HEAD -> master\n"
          ],
          "name": "stdout"
        }
      ]
    }
  ]
}